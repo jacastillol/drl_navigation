{
 "cells": [
  {
   "cell_type": "markdown",
   "metadata": {},
   "source": [
    "# Report for Banana Collector solved by a DQN algorithm\n",
    "## Code implementation description\n",
    "Files and how it works\n",
    "## Learning algorithm\n",
    "Description, hyperparameters and neural networks architectures\n",
    "## Plots of rewards\n",
    "Reports the number of episodes needed to solve the environment\n",
    "## Ideas for future work\n",
    "The submission has concrete future ideas for improving performance"
   ]
  },
  {
   "cell_type": "code",
   "execution_count": null,
   "metadata": {
    "collapsed": true
   },
   "outputs": [],
   "source": []
  }
 ],
 "metadata": {
  "kernelspec": {
   "display_name": "Python 2",
   "language": "python",
   "name": "python2"
  },
  "language_info": {
   "codemirror_mode": {
    "name": "ipython",
    "version": 2
   },
   "file_extension": ".py",
   "mimetype": "text/x-python",
   "name": "python",
   "nbconvert_exporter": "python",
   "pygments_lexer": "ipython2",
   "version": "2.7.12"
  }
 },
 "nbformat": 4,
 "nbformat_minor": 1
}
