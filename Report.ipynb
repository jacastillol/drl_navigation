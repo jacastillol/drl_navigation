{
 "cells": [
  {
   "cell_type": "markdown",
   "metadata": {},
   "source": [
    "# Report for Banana Collector solved by a DQN algorithm\n",
    "## Code implementation description\n",
    "The whole code contains four python files:\n",
    "1. `model.py` contains a class Actor, which is a neural network (NN) with two hidden layers (37,64,64,4), so this NN codifies the policy.\n",
    "1. `dqn_agent.py` has a class Agent with an Actor class and ReplayBuffer class as members, Agent has three important methods `act`, `step` and `learn`. Furthermore ReplayBuffer is an implementation of the Expirience Replay technique propose in the DQN algorithm.\n",
    "1. `dqn_monitor.py` has a function which implements the interacion of Unity environment and the class Agent following the DQN algorithm.\n",
    "\n",
    "## Learning algorithm\n",
    "Description, hyperparameters and neural networks architectures\n",
    "## Plots of rewards\n",
    "Reports the number of episodes needed to solve the environment\n",
    "## Ideas for future work\n",
    "The submission has concrete future ideas for improving performance"
   ]
  },
  {
   "cell_type": "code",
   "execution_count": null,
   "metadata": {
    "collapsed": true
   },
   "outputs": [],
   "source": []
  }
 ],
 "metadata": {
  "kernelspec": {
   "display_name": "drlnavigation",
   "language": "python",
   "name": "drlnavigation"
  },
  "language_info": {
   "codemirror_mode": {
    "name": "ipython",
    "version": 3
   },
   "file_extension": ".py",
   "mimetype": "text/x-python",
   "name": "python",
   "nbconvert_exporter": "python",
   "pygments_lexer": "ipython3",
   "version": "3.6.7"
  }
 },
 "nbformat": 4,
 "nbformat_minor": 1
}
